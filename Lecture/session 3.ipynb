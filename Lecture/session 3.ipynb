{
 "cells": [
  {
   "cell_type": "code",
   "execution_count": 1,
   "id": "33d985f4",
   "metadata": {},
   "outputs": [
    {
     "name": "stdout",
     "output_type": "stream",
     "text": [
      "[100, 10.5]\n"
     ]
    }
   ],
   "source": [
    "l=[\"A\", 100, 10.5]\n",
    "print(l[-2:])"
   ]
  },
  {
   "cell_type": "code",
   "execution_count": 2,
   "id": "ee10eef3",
   "metadata": {},
   "outputs": [
    {
     "name": "stdout",
     "output_type": "stream",
     "text": [
      "3.141592653589793\n"
     ]
    }
   ],
   "source": [
    "import math\n",
    "print(math.pi)"
   ]
  },
  {
   "cell_type": "code",
   "execution_count": 3,
   "id": "69fd83d9",
   "metadata": {},
   "outputs": [
    {
     "name": "stdout",
     "output_type": "stream",
     "text": [
      "4\n",
      "6\n",
      "no\n"
     ]
    }
   ],
   "source": [
    "a=int(input())\n",
    "b=int(input()) \n",
    "if(a>=b):\n",
    "    print(\"yes\")\n",
    "else:\n",
    "    print(\"no\")"
   ]
  },
  {
   "cell_type": "code",
   "execution_count": 5,
   "id": "5f78b0e0",
   "metadata": {},
   "outputs": [
    {
     "name": "stdout",
     "output_type": "stream",
     "text": [
      "4\n",
      "8\n",
      "multiples\n"
     ]
    }
   ],
   "source": [
    "a=int(input()) \n",
    "b=int(input())\n",
    "if(a%b==0):\n",
    "    print(\"multiples\")\n",
    "else:\n",
    "    if(b%a==0):\n",
    "        print(\"multiples\")\n",
    "    else:\n",
    "        print(\"no multiples\")"
   ]
  },
  {
   "cell_type": "code",
   "execution_count": null,
   "id": "20030aef",
   "metadata": {},
   "outputs": [],
   "source": []
  }
 ],
 "metadata": {
  "kernelspec": {
   "display_name": "Python 3 (ipykernel)",
   "language": "python",
   "name": "python3"
  },
  "language_info": {
   "codemirror_mode": {
    "name": "ipython",
    "version": 3
   },
   "file_extension": ".py",
   "mimetype": "text/x-python",
   "name": "python",
   "nbconvert_exporter": "python",
   "pygments_lexer": "ipython3",
   "version": "3.9.12"
  }
 },
 "nbformat": 4,
 "nbformat_minor": 5
}
