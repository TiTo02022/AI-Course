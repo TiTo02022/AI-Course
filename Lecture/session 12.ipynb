{
 "cells": [
  {
   "cell_type": "code",
   "execution_count": 2,
   "id": "ff84fcce",
   "metadata": {},
   "outputs": [
    {
     "data": {
      "text/plain": [
       "array([[[254, 254, 254],\n",
       "        [254, 254, 254],\n",
       "        [254, 254, 254],\n",
       "        ...,\n",
       "        [254, 254, 254],\n",
       "        [254, 254, 254],\n",
       "        [254, 254, 254]],\n",
       "\n",
       "       [[254, 254, 254],\n",
       "        [254, 254, 254],\n",
       "        [254, 254, 254],\n",
       "        ...,\n",
       "        [254, 254, 254],\n",
       "        [254, 254, 254],\n",
       "        [254, 254, 254]],\n",
       "\n",
       "       [[254, 254, 254],\n",
       "        [254, 254, 254],\n",
       "        [254, 254, 254],\n",
       "        ...,\n",
       "        [254, 254, 254],\n",
       "        [254, 254, 254],\n",
       "        [254, 254, 254]],\n",
       "\n",
       "       ...,\n",
       "\n",
       "       [[243, 255, 237],\n",
       "        [241, 255, 240],\n",
       "        [237, 255, 243],\n",
       "        ...,\n",
       "        [243, 244, 253],\n",
       "        [250, 254, 255],\n",
       "        [246, 252, 249]],\n",
       "\n",
       "       [[252, 255, 237],\n",
       "        [245, 253, 236],\n",
       "        [244, 252, 242],\n",
       "        ...,\n",
       "        [242, 243, 252],\n",
       "        [251, 255, 255],\n",
       "        [250, 255, 252]],\n",
       "\n",
       "       [[255, 255, 237],\n",
       "        [247, 248, 232],\n",
       "        [249, 250, 240],\n",
       "        ...,\n",
       "        [242, 243, 252],\n",
       "        [252, 255, 255],\n",
       "        [251, 255, 253]]], dtype=uint8)"
      ]
     },
     "execution_count": 2,
     "metadata": {},
     "output_type": "execute_result"
    }
   ],
   "source": [
    "import cv2 as cv\n",
    "img=cv.imread('one.jpeg')\n",
    "img"
   ]
  },
  {
   "cell_type": "code",
   "execution_count": 3,
   "id": "6eece009",
   "metadata": {},
   "outputs": [
    {
     "data": {
      "text/plain": [
       "(700, 1400, 3)"
      ]
     },
     "execution_count": 3,
     "metadata": {},
     "output_type": "execute_result"
    }
   ],
   "source": [
    "img.shape"
   ]
  },
  {
   "cell_type": "code",
   "execution_count": 4,
   "id": "48f6c327",
   "metadata": {},
   "outputs": [
    {
     "data": {
      "text/plain": [
       "-1"
      ]
     },
     "execution_count": 4,
     "metadata": {},
     "output_type": "execute_result"
    }
   ],
   "source": [
    "cv.imshow(\"test\",img)\n",
    "cv.waitKey()"
   ]
  },
  {
   "cell_type": "code",
   "execution_count": 5,
   "id": "f80cd5b3",
   "metadata": {},
   "outputs": [
    {
     "data": {
      "text/plain": [
       "-1"
      ]
     },
     "execution_count": 5,
     "metadata": {},
     "output_type": "execute_result"
    }
   ],
   "source": [
    "gray=cv.cvtColor(img,cv.COLOR_BGR2GRAY)\n",
    "cv.imshow(\"gray\",gray)\n",
    "cv.waitKey()"
   ]
  },
  {
   "cell_type": "code",
   "execution_count": 6,
   "id": "4b0e8c2e",
   "metadata": {},
   "outputs": [
    {
     "data": {
      "text/plain": [
       "-1"
      ]
     },
     "execution_count": 6,
     "metadata": {},
     "output_type": "execute_result"
    }
   ],
   "source": [
    "blur=cv.GaussianBlur(img,(11,11),cv.BORDER_DEFAULT)\n",
    "cv.imshow('blur',blur)\n",
    "cv.waitKey()"
   ]
  },
  {
   "cell_type": "code",
   "execution_count": 7,
   "id": "fd826fd2",
   "metadata": {},
   "outputs": [
    {
     "data": {
      "text/plain": [
       "-1"
      ]
     },
     "execution_count": 7,
     "metadata": {},
     "output_type": "execute_result"
    }
   ],
   "source": [
    "canny =cv.Canny(blur,125,175)\n",
    "cv.imshow('Canny image',canny)\n",
    "cv.waitKey()"
   ]
  },
  {
   "cell_type": "code",
   "execution_count": 8,
   "id": "6c75327f",
   "metadata": {},
   "outputs": [],
   "source": [
    "#capture realtime video\n",
    "import numpy as np\n",
    "import cv2 \n",
    "\n",
    "cap=cv2.VideoCapture(0) #default 0 integrated cam 1 if added\n",
    "\n",
    "while(True):\n",
    "    ret,frame=cap.read()\n",
    "    gray=cv2.cvtColor(frame,cv2.COLOR_BGR2GRAY)\n",
    "    cv2.imshow('frame',frame)\n",
    "    cv2.imshow('gray',gray)\n",
    "    if cv2.waitKey(20)&0xFF ==ord('q'):\n",
    "        break\n",
    "cap.release()\n",
    "cv2.destroyAllWindows()\n",
    "    "
   ]
  }
 ],
 "metadata": {
  "kernelspec": {
   "display_name": "Python 3 (ipykernel)",
   "language": "python",
   "name": "python3"
  },
  "language_info": {
   "codemirror_mode": {
    "name": "ipython",
    "version": 3
   },
   "file_extension": ".py",
   "mimetype": "text/x-python",
   "name": "python",
   "nbconvert_exporter": "python",
   "pygments_lexer": "ipython3",
   "version": "3.9.12"
  }
 },
 "nbformat": 4,
 "nbformat_minor": 5
}
