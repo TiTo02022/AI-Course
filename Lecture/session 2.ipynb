{
 "cells": [
  {
   "cell_type": "code",
   "execution_count": 1,
   "id": "46c4696e",
   "metadata": {},
   "outputs": [
    {
     "name": "stdout",
     "output_type": "stream",
     "text": [
      "1+2+3+4+5+6+7+8+9+10\n"
     ]
    }
   ],
   "source": [
    "i=1\n",
    "while i<=10:\n",
    "    if i<10:\n",
    "        print(i,end=\"+\")\n",
    "    else:\n",
    "        print(i)\n",
    "    i+=1"
   ]
  },
  {
   "cell_type": "code",
   "execution_count": 8,
   "id": "7e1ec0a1",
   "metadata": {},
   "outputs": [
    {
     "name": "stdout",
     "output_type": "stream",
     "text": [
      "enter a number 45\n",
      "54"
     ]
    }
   ],
   "source": [
    "n=int(input(\"enter a number \"))\n",
    "while n>0:\n",
    "    r=n%10\n",
    "    print(r,end=\"\")\n",
    "    n=n//10"
   ]
  },
  {
   "cell_type": "code",
   "execution_count": 9,
   "id": "f9e42236",
   "metadata": {},
   "outputs": [
    {
     "name": "stdout",
     "output_type": "stream",
     "text": [
      "enter a number 455\n",
      "14\n"
     ]
    }
   ],
   "source": [
    "n=int(input(\"enter a number \"))\n",
    "x=0\n",
    "while n>0:\n",
    "    r=n % 10\n",
    "    x+=r\n",
    "    n=n//10\n",
    "print (x)"
   ]
  },
  {
   "cell_type": "code",
   "execution_count": 10,
   "id": "41c905ec",
   "metadata": {},
   "outputs": [
    {
     "name": "stdout",
     "output_type": "stream",
     "text": [
      "enter a number 48\n",
      "not armstrong\n"
     ]
    }
   ],
   "source": [
    "n=int(input(\"enter a number \"))\n",
    "c=n\n",
    "x=0\n",
    "z=0\n",
    "while n>0:\n",
    "    r=n % 10\n",
    "    n=n//10\n",
    "    z+=1\n",
    "n=c\n",
    "while n>0:\n",
    "    r=n % 10\n",
    "    x+=r**z\n",
    "    n=n//10\n",
    "if(x==c):\n",
    "    print(\"is armstrong\")\n",
    "else:\n",
    "    print(\"not armstrong\")"
   ]
  },
  {
   "cell_type": "code",
   "execution_count": null,
   "id": "0cdeaffb",
   "metadata": {},
   "outputs": [],
   "source": []
  }
 ],
 "metadata": {
  "kernelspec": {
   "display_name": "Python 3 (ipykernel)",
   "language": "python",
   "name": "python3"
  },
  "language_info": {
   "codemirror_mode": {
    "name": "ipython",
    "version": 3
   },
   "file_extension": ".py",
   "mimetype": "text/x-python",
   "name": "python",
   "nbconvert_exporter": "python",
   "pygments_lexer": "ipython3",
   "version": "3.9.12"
  }
 },
 "nbformat": 4,
 "nbformat_minor": 5
}
